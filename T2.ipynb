{
 "cells": [
  {
   "cell_type": "code",
   "execution_count": 1,
   "id": "3b966b63",
   "metadata": {},
   "outputs": [],
   "source": [
    "import pandas as pd\n",
    "pd.set_option('display.max_columns', 500)"
   ]
  },
  {
   "cell_type": "code",
   "execution_count": 2,
   "id": "3ab82525",
   "metadata": {},
   "outputs": [],
   "source": [
    "features=pd.read_csv('training_set_features.csv')\n",
    "labels=pd.read_csv('training_set_labels.csv')"
   ]
  },
  {
   "cell_type": "code",
   "execution_count": 3,
   "id": "7750bed3",
   "metadata": {},
   "outputs": [],
   "source": [
    "labels1=labels.drop('xyz_vaccine',axis=1)"
   ]
  },
  {
   "cell_type": "code",
   "execution_count": 4,
   "id": "d76be90e",
   "metadata": {},
   "outputs": [],
   "source": [
    "data=features.merge(labels1,how='outer')"
   ]
  },
  {
   "cell_type": "code",
   "execution_count": 5,
   "id": "aa59b50e",
   "metadata": {},
   "outputs": [],
   "source": [
    "data.drop(['health_insurance','employment_industry','employment_occupation','respondent_id','hhs_geo_region'],axis=1,inplace=True)"
   ]
  },
  {
   "cell_type": "code",
   "execution_count": 6,
   "id": "cfd1ad4e",
   "metadata": {},
   "outputs": [],
   "source": [
    "X=data.drop('seasonal_vaccine',axis=1)\n",
    "y=data['seasonal_vaccine']"
   ]
  },
  {
   "cell_type": "code",
   "execution_count": 7,
   "id": "db5c939f",
   "metadata": {},
   "outputs": [],
   "source": [
    "best_labels=['xyz_concern',\n",
    " 'xyz_knowledge',\n",
    " 'behavioral_antiviral_meds',\n",
    " 'behavioral_avoidance',\n",
    " 'behavioral_face_mask',\n",
    " 'behavioral_wash_hands',\n",
    " 'behavioral_large_gatherings',\n",
    " 'behavioral_outside_home',\n",
    " 'behavioral_touch_face',\n",
    " 'doctor_recc_xyz',\n",
    " 'doctor_recc_seasonal',\n",
    " 'chronic_med_condition',\n",
    " 'child_under_6_months',\n",
    " 'health_worker',\n",
    " 'opinion_xyz_vacc_effective',\n",
    " 'opinion_xyz_risk',\n",
    " 'opinion_xyz_sick_from_vacc',\n",
    " 'opinion_seas_vacc_effective',\n",
    " 'opinion_seas_risk',\n",
    " 'opinion_seas_sick_from_vacc',\n",
    " 'age_group',\n",
    " 'education',\n",
    " 'race',\n",
    " 'sex',\n",
    " 'income_poverty',\n",
    " 'marital_status',\n",
    " 'rent_or_own',\n",
    " 'employment_status',\n",
    " 'census_msa',\n",
    " 'household_adults',\n",
    " 'household_children']"
   ]
  },
  {
   "cell_type": "code",
   "execution_count": 10,
   "id": "afc7aca3",
   "metadata": {},
   "outputs": [],
   "source": [
    "X_new=X[best_labels]"
   ]
  },
  {
   "cell_type": "code",
   "execution_count": 11,
   "id": "8f2b9634",
   "metadata": {},
   "outputs": [],
   "source": [
    "num_cols_new=[i for i in X_new if X_new[i].dtype!=object]\n",
    "cat_cols_new=[i for i in X_new if X_new[i].dtype==object]"
   ]
  },
  {
   "cell_type": "code",
   "execution_count": 13,
   "id": "57cc87b9",
   "metadata": {},
   "outputs": [],
   "source": [
    "from sklearn.pipeline import make_pipeline\n",
    "from sklearn.impute import SimpleImputer\n",
    "from sklearn.preprocessing import OneHotEncoder\n",
    "from sklearn.compose import make_column_transformer"
   ]
  },
  {
   "cell_type": "code",
   "execution_count": 14,
   "id": "7ba992ee",
   "metadata": {},
   "outputs": [],
   "source": [
    "num_pipe=make_pipeline(SimpleImputer(strategy='most_frequent'))\n",
    "cat_pipe=make_pipeline(SimpleImputer(strategy='most_frequent'),OneHotEncoder())"
   ]
  },
  {
   "cell_type": "code",
   "execution_count": 16,
   "id": "a6324d42",
   "metadata": {},
   "outputs": [],
   "source": [
    "col_trans=make_column_transformer((num_pipe,num_cols_new),(cat_pipe,cat_cols_new),remainder='passthrough')"
   ]
  },
  {
   "cell_type": "code",
   "execution_count": 17,
   "id": "77713508",
   "metadata": {},
   "outputs": [],
   "source": [
    "from sklearn.svm import SVC"
   ]
  },
  {
   "cell_type": "code",
   "execution_count": 31,
   "id": "13399ff0",
   "metadata": {},
   "outputs": [],
   "source": [
    "pipe=make_pipeline(col_trans,SVC(probability=True,C=1,kernel='rbf'))"
   ]
  },
  {
   "cell_type": "code",
   "execution_count": 28,
   "id": "7b0acca4",
   "metadata": {},
   "outputs": [],
   "source": [
    "from sklearn.model_selection import cross_val_score"
   ]
  },
  {
   "cell_type": "code",
   "execution_count": null,
   "id": "3130ff29",
   "metadata": {},
   "outputs": [],
   "source": [
    "cross_val_score(pipe,X_new,y,cv=10,scoring='roc_auc').mean()"
   ]
  },
  {
   "cell_type": "code",
   "execution_count": 32,
   "id": "7e8dedc7",
   "metadata": {},
   "outputs": [
    {
     "data": {
      "text/html": [
       "<style>#sk-container-id-2 {color: black;background-color: white;}#sk-container-id-2 pre{padding: 0;}#sk-container-id-2 div.sk-toggleable {background-color: white;}#sk-container-id-2 label.sk-toggleable__label {cursor: pointer;display: block;width: 100%;margin-bottom: 0;padding: 0.3em;box-sizing: border-box;text-align: center;}#sk-container-id-2 label.sk-toggleable__label-arrow:before {content: \"▸\";float: left;margin-right: 0.25em;color: #696969;}#sk-container-id-2 label.sk-toggleable__label-arrow:hover:before {color: black;}#sk-container-id-2 div.sk-estimator:hover label.sk-toggleable__label-arrow:before {color: black;}#sk-container-id-2 div.sk-toggleable__content {max-height: 0;max-width: 0;overflow: hidden;text-align: left;background-color: #f0f8ff;}#sk-container-id-2 div.sk-toggleable__content pre {margin: 0.2em;color: black;border-radius: 0.25em;background-color: #f0f8ff;}#sk-container-id-2 input.sk-toggleable__control:checked~div.sk-toggleable__content {max-height: 200px;max-width: 100%;overflow: auto;}#sk-container-id-2 input.sk-toggleable__control:checked~label.sk-toggleable__label-arrow:before {content: \"▾\";}#sk-container-id-2 div.sk-estimator input.sk-toggleable__control:checked~label.sk-toggleable__label {background-color: #d4ebff;}#sk-container-id-2 div.sk-label input.sk-toggleable__control:checked~label.sk-toggleable__label {background-color: #d4ebff;}#sk-container-id-2 input.sk-hidden--visually {border: 0;clip: rect(1px 1px 1px 1px);clip: rect(1px, 1px, 1px, 1px);height: 1px;margin: -1px;overflow: hidden;padding: 0;position: absolute;width: 1px;}#sk-container-id-2 div.sk-estimator {font-family: monospace;background-color: #f0f8ff;border: 1px dotted black;border-radius: 0.25em;box-sizing: border-box;margin-bottom: 0.5em;}#sk-container-id-2 div.sk-estimator:hover {background-color: #d4ebff;}#sk-container-id-2 div.sk-parallel-item::after {content: \"\";width: 100%;border-bottom: 1px solid gray;flex-grow: 1;}#sk-container-id-2 div.sk-label:hover label.sk-toggleable__label {background-color: #d4ebff;}#sk-container-id-2 div.sk-serial::before {content: \"\";position: absolute;border-left: 1px solid gray;box-sizing: border-box;top: 0;bottom: 0;left: 50%;z-index: 0;}#sk-container-id-2 div.sk-serial {display: flex;flex-direction: column;align-items: center;background-color: white;padding-right: 0.2em;padding-left: 0.2em;position: relative;}#sk-container-id-2 div.sk-item {position: relative;z-index: 1;}#sk-container-id-2 div.sk-parallel {display: flex;align-items: stretch;justify-content: center;background-color: white;position: relative;}#sk-container-id-2 div.sk-item::before, #sk-container-id-2 div.sk-parallel-item::before {content: \"\";position: absolute;border-left: 1px solid gray;box-sizing: border-box;top: 0;bottom: 0;left: 50%;z-index: -1;}#sk-container-id-2 div.sk-parallel-item {display: flex;flex-direction: column;z-index: 1;position: relative;background-color: white;}#sk-container-id-2 div.sk-parallel-item:first-child::after {align-self: flex-end;width: 50%;}#sk-container-id-2 div.sk-parallel-item:last-child::after {align-self: flex-start;width: 50%;}#sk-container-id-2 div.sk-parallel-item:only-child::after {width: 0;}#sk-container-id-2 div.sk-dashed-wrapped {border: 1px dashed gray;margin: 0 0.4em 0.5em 0.4em;box-sizing: border-box;padding-bottom: 0.4em;background-color: white;}#sk-container-id-2 div.sk-label label {font-family: monospace;font-weight: bold;display: inline-block;line-height: 1.2em;}#sk-container-id-2 div.sk-label-container {text-align: center;}#sk-container-id-2 div.sk-container {/* jupyter's `normalize.less` sets `[hidden] { display: none; }` but bootstrap.min.css set `[hidden] { display: none !important; }` so we also need the `!important` here to be able to override the default hidden behavior on the sphinx rendered scikit-learn.org. See: https://github.com/scikit-learn/scikit-learn/issues/21755 */display: inline-block !important;position: relative;}#sk-container-id-2 div.sk-text-repr-fallback {display: none;}</style><div id=\"sk-container-id-2\" class=\"sk-top-container\"><div class=\"sk-text-repr-fallback\"><pre>Pipeline(steps=[(&#x27;columntransformer&#x27;,\n",
       "                 ColumnTransformer(remainder=&#x27;passthrough&#x27;,\n",
       "                                   transformers=[(&#x27;pipeline-1&#x27;,\n",
       "                                                  Pipeline(steps=[(&#x27;simpleimputer&#x27;,\n",
       "                                                                   SimpleImputer(strategy=&#x27;most_frequent&#x27;))]),\n",
       "                                                  [&#x27;xyz_concern&#x27;,\n",
       "                                                   &#x27;xyz_knowledge&#x27;,\n",
       "                                                   &#x27;behavioral_antiviral_meds&#x27;,\n",
       "                                                   &#x27;behavioral_avoidance&#x27;,\n",
       "                                                   &#x27;behavioral_face_mask&#x27;,\n",
       "                                                   &#x27;behavioral_wash_hands&#x27;,\n",
       "                                                   &#x27;behavioral_large_gatherings&#x27;,\n",
       "                                                   &#x27;behavio...\n",
       "                                                   &#x27;opinion_seas_sick_from_vacc&#x27;,\n",
       "                                                   &#x27;household_adults&#x27;,\n",
       "                                                   &#x27;household_children&#x27;]),\n",
       "                                                 (&#x27;pipeline-2&#x27;,\n",
       "                                                  Pipeline(steps=[(&#x27;simpleimputer&#x27;,\n",
       "                                                                   SimpleImputer(strategy=&#x27;most_frequent&#x27;)),\n",
       "                                                                  (&#x27;onehotencoder&#x27;,\n",
       "                                                                   OneHotEncoder())]),\n",
       "                                                  [&#x27;age_group&#x27;, &#x27;education&#x27;,\n",
       "                                                   &#x27;race&#x27;, &#x27;sex&#x27;,\n",
       "                                                   &#x27;income_poverty&#x27;,\n",
       "                                                   &#x27;marital_status&#x27;,\n",
       "                                                   &#x27;rent_or_own&#x27;,\n",
       "                                                   &#x27;employment_status&#x27;,\n",
       "                                                   &#x27;census_msa&#x27;])])),\n",
       "                (&#x27;svc&#x27;, SVC(C=1, probability=True))])</pre><b>In a Jupyter environment, please rerun this cell to show the HTML representation or trust the notebook. <br />On GitHub, the HTML representation is unable to render, please try loading this page with nbviewer.org.</b></div><div class=\"sk-container\" hidden><div class=\"sk-item sk-dashed-wrapped\"><div class=\"sk-label-container\"><div class=\"sk-label sk-toggleable\"><input class=\"sk-toggleable__control sk-hidden--visually\" id=\"sk-estimator-id-11\" type=\"checkbox\" ><label for=\"sk-estimator-id-11\" class=\"sk-toggleable__label sk-toggleable__label-arrow\">Pipeline</label><div class=\"sk-toggleable__content\"><pre>Pipeline(steps=[(&#x27;columntransformer&#x27;,\n",
       "                 ColumnTransformer(remainder=&#x27;passthrough&#x27;,\n",
       "                                   transformers=[(&#x27;pipeline-1&#x27;,\n",
       "                                                  Pipeline(steps=[(&#x27;simpleimputer&#x27;,\n",
       "                                                                   SimpleImputer(strategy=&#x27;most_frequent&#x27;))]),\n",
       "                                                  [&#x27;xyz_concern&#x27;,\n",
       "                                                   &#x27;xyz_knowledge&#x27;,\n",
       "                                                   &#x27;behavioral_antiviral_meds&#x27;,\n",
       "                                                   &#x27;behavioral_avoidance&#x27;,\n",
       "                                                   &#x27;behavioral_face_mask&#x27;,\n",
       "                                                   &#x27;behavioral_wash_hands&#x27;,\n",
       "                                                   &#x27;behavioral_large_gatherings&#x27;,\n",
       "                                                   &#x27;behavio...\n",
       "                                                   &#x27;opinion_seas_sick_from_vacc&#x27;,\n",
       "                                                   &#x27;household_adults&#x27;,\n",
       "                                                   &#x27;household_children&#x27;]),\n",
       "                                                 (&#x27;pipeline-2&#x27;,\n",
       "                                                  Pipeline(steps=[(&#x27;simpleimputer&#x27;,\n",
       "                                                                   SimpleImputer(strategy=&#x27;most_frequent&#x27;)),\n",
       "                                                                  (&#x27;onehotencoder&#x27;,\n",
       "                                                                   OneHotEncoder())]),\n",
       "                                                  [&#x27;age_group&#x27;, &#x27;education&#x27;,\n",
       "                                                   &#x27;race&#x27;, &#x27;sex&#x27;,\n",
       "                                                   &#x27;income_poverty&#x27;,\n",
       "                                                   &#x27;marital_status&#x27;,\n",
       "                                                   &#x27;rent_or_own&#x27;,\n",
       "                                                   &#x27;employment_status&#x27;,\n",
       "                                                   &#x27;census_msa&#x27;])])),\n",
       "                (&#x27;svc&#x27;, SVC(C=1, probability=True))])</pre></div></div></div><div class=\"sk-serial\"><div class=\"sk-item sk-dashed-wrapped\"><div class=\"sk-label-container\"><div class=\"sk-label sk-toggleable\"><input class=\"sk-toggleable__control sk-hidden--visually\" id=\"sk-estimator-id-12\" type=\"checkbox\" ><label for=\"sk-estimator-id-12\" class=\"sk-toggleable__label sk-toggleable__label-arrow\">columntransformer: ColumnTransformer</label><div class=\"sk-toggleable__content\"><pre>ColumnTransformer(remainder=&#x27;passthrough&#x27;,\n",
       "                  transformers=[(&#x27;pipeline-1&#x27;,\n",
       "                                 Pipeline(steps=[(&#x27;simpleimputer&#x27;,\n",
       "                                                  SimpleImputer(strategy=&#x27;most_frequent&#x27;))]),\n",
       "                                 [&#x27;xyz_concern&#x27;, &#x27;xyz_knowledge&#x27;,\n",
       "                                  &#x27;behavioral_antiviral_meds&#x27;,\n",
       "                                  &#x27;behavioral_avoidance&#x27;,\n",
       "                                  &#x27;behavioral_face_mask&#x27;,\n",
       "                                  &#x27;behavioral_wash_hands&#x27;,\n",
       "                                  &#x27;behavioral_large_gatherings&#x27;,\n",
       "                                  &#x27;behavioral_outside_home&#x27;,\n",
       "                                  &#x27;behavioral_touch_f...\n",
       "                                  &#x27;opinion_seas_vacc_effective&#x27;,\n",
       "                                  &#x27;opinion_seas_risk&#x27;,\n",
       "                                  &#x27;opinion_seas_sick_from_vacc&#x27;,\n",
       "                                  &#x27;household_adults&#x27;, &#x27;household_children&#x27;]),\n",
       "                                (&#x27;pipeline-2&#x27;,\n",
       "                                 Pipeline(steps=[(&#x27;simpleimputer&#x27;,\n",
       "                                                  SimpleImputer(strategy=&#x27;most_frequent&#x27;)),\n",
       "                                                 (&#x27;onehotencoder&#x27;,\n",
       "                                                  OneHotEncoder())]),\n",
       "                                 [&#x27;age_group&#x27;, &#x27;education&#x27;, &#x27;race&#x27;, &#x27;sex&#x27;,\n",
       "                                  &#x27;income_poverty&#x27;, &#x27;marital_status&#x27;,\n",
       "                                  &#x27;rent_or_own&#x27;, &#x27;employment_status&#x27;,\n",
       "                                  &#x27;census_msa&#x27;])])</pre></div></div></div><div class=\"sk-parallel\"><div class=\"sk-parallel-item\"><div class=\"sk-item\"><div class=\"sk-label-container\"><div class=\"sk-label sk-toggleable\"><input class=\"sk-toggleable__control sk-hidden--visually\" id=\"sk-estimator-id-13\" type=\"checkbox\" ><label for=\"sk-estimator-id-13\" class=\"sk-toggleable__label sk-toggleable__label-arrow\">pipeline-1</label><div class=\"sk-toggleable__content\"><pre>[&#x27;xyz_concern&#x27;, &#x27;xyz_knowledge&#x27;, &#x27;behavioral_antiviral_meds&#x27;, &#x27;behavioral_avoidance&#x27;, &#x27;behavioral_face_mask&#x27;, &#x27;behavioral_wash_hands&#x27;, &#x27;behavioral_large_gatherings&#x27;, &#x27;behavioral_outside_home&#x27;, &#x27;behavioral_touch_face&#x27;, &#x27;doctor_recc_xyz&#x27;, &#x27;doctor_recc_seasonal&#x27;, &#x27;chronic_med_condition&#x27;, &#x27;child_under_6_months&#x27;, &#x27;health_worker&#x27;, &#x27;opinion_xyz_vacc_effective&#x27;, &#x27;opinion_xyz_risk&#x27;, &#x27;opinion_xyz_sick_from_vacc&#x27;, &#x27;opinion_seas_vacc_effective&#x27;, &#x27;opinion_seas_risk&#x27;, &#x27;opinion_seas_sick_from_vacc&#x27;, &#x27;household_adults&#x27;, &#x27;household_children&#x27;]</pre></div></div></div><div class=\"sk-serial\"><div class=\"sk-item\"><div class=\"sk-serial\"><div class=\"sk-item\"><div class=\"sk-estimator sk-toggleable\"><input class=\"sk-toggleable__control sk-hidden--visually\" id=\"sk-estimator-id-14\" type=\"checkbox\" ><label for=\"sk-estimator-id-14\" class=\"sk-toggleable__label sk-toggleable__label-arrow\">SimpleImputer</label><div class=\"sk-toggleable__content\"><pre>SimpleImputer(strategy=&#x27;most_frequent&#x27;)</pre></div></div></div></div></div></div></div></div><div class=\"sk-parallel-item\"><div class=\"sk-item\"><div class=\"sk-label-container\"><div class=\"sk-label sk-toggleable\"><input class=\"sk-toggleable__control sk-hidden--visually\" id=\"sk-estimator-id-15\" type=\"checkbox\" ><label for=\"sk-estimator-id-15\" class=\"sk-toggleable__label sk-toggleable__label-arrow\">pipeline-2</label><div class=\"sk-toggleable__content\"><pre>[&#x27;age_group&#x27;, &#x27;education&#x27;, &#x27;race&#x27;, &#x27;sex&#x27;, &#x27;income_poverty&#x27;, &#x27;marital_status&#x27;, &#x27;rent_or_own&#x27;, &#x27;employment_status&#x27;, &#x27;census_msa&#x27;]</pre></div></div></div><div class=\"sk-serial\"><div class=\"sk-item\"><div class=\"sk-serial\"><div class=\"sk-item\"><div class=\"sk-estimator sk-toggleable\"><input class=\"sk-toggleable__control sk-hidden--visually\" id=\"sk-estimator-id-16\" type=\"checkbox\" ><label for=\"sk-estimator-id-16\" class=\"sk-toggleable__label sk-toggleable__label-arrow\">SimpleImputer</label><div class=\"sk-toggleable__content\"><pre>SimpleImputer(strategy=&#x27;most_frequent&#x27;)</pre></div></div></div><div class=\"sk-item\"><div class=\"sk-estimator sk-toggleable\"><input class=\"sk-toggleable__control sk-hidden--visually\" id=\"sk-estimator-id-17\" type=\"checkbox\" ><label for=\"sk-estimator-id-17\" class=\"sk-toggleable__label sk-toggleable__label-arrow\">OneHotEncoder</label><div class=\"sk-toggleable__content\"><pre>OneHotEncoder()</pre></div></div></div></div></div></div></div></div><div class=\"sk-parallel-item\"><div class=\"sk-item\"><div class=\"sk-label-container\"><div class=\"sk-label sk-toggleable\"><input class=\"sk-toggleable__control sk-hidden--visually\" id=\"sk-estimator-id-18\" type=\"checkbox\" ><label for=\"sk-estimator-id-18\" class=\"sk-toggleable__label sk-toggleable__label-arrow\">remainder</label><div class=\"sk-toggleable__content\"><pre>[]</pre></div></div></div><div class=\"sk-serial\"><div class=\"sk-item\"><div class=\"sk-estimator sk-toggleable\"><input class=\"sk-toggleable__control sk-hidden--visually\" id=\"sk-estimator-id-19\" type=\"checkbox\" ><label for=\"sk-estimator-id-19\" class=\"sk-toggleable__label sk-toggleable__label-arrow\">passthrough</label><div class=\"sk-toggleable__content\"><pre>passthrough</pre></div></div></div></div></div></div></div></div><div class=\"sk-item\"><div class=\"sk-estimator sk-toggleable\"><input class=\"sk-toggleable__control sk-hidden--visually\" id=\"sk-estimator-id-20\" type=\"checkbox\" ><label for=\"sk-estimator-id-20\" class=\"sk-toggleable__label sk-toggleable__label-arrow\">SVC</label><div class=\"sk-toggleable__content\"><pre>SVC(C=1, probability=True)</pre></div></div></div></div></div></div></div>"
      ],
      "text/plain": [
       "Pipeline(steps=[('columntransformer',\n",
       "                 ColumnTransformer(remainder='passthrough',\n",
       "                                   transformers=[('pipeline-1',\n",
       "                                                  Pipeline(steps=[('simpleimputer',\n",
       "                                                                   SimpleImputer(strategy='most_frequent'))]),\n",
       "                                                  ['xyz_concern',\n",
       "                                                   'xyz_knowledge',\n",
       "                                                   'behavioral_antiviral_meds',\n",
       "                                                   'behavioral_avoidance',\n",
       "                                                   'behavioral_face_mask',\n",
       "                                                   'behavioral_wash_hands',\n",
       "                                                   'behavioral_large_gatherings',\n",
       "                                                   'behavio...\n",
       "                                                   'opinion_seas_sick_from_vacc',\n",
       "                                                   'household_adults',\n",
       "                                                   'household_children']),\n",
       "                                                 ('pipeline-2',\n",
       "                                                  Pipeline(steps=[('simpleimputer',\n",
       "                                                                   SimpleImputer(strategy='most_frequent')),\n",
       "                                                                  ('onehotencoder',\n",
       "                                                                   OneHotEncoder())]),\n",
       "                                                  ['age_group', 'education',\n",
       "                                                   'race', 'sex',\n",
       "                                                   'income_poverty',\n",
       "                                                   'marital_status',\n",
       "                                                   'rent_or_own',\n",
       "                                                   'employment_status',\n",
       "                                                   'census_msa'])])),\n",
       "                ('svc', SVC(C=1, probability=True))])"
      ]
     },
     "execution_count": 32,
     "metadata": {},
     "output_type": "execute_result"
    }
   ],
   "source": [
    "pipe.fit(X_new,y)"
   ]
  },
  {
   "cell_type": "code",
   "execution_count": null,
   "id": "72cfb6d4",
   "metadata": {},
   "outputs": [],
   "source": []
  },
  {
   "cell_type": "code",
   "execution_count": 33,
   "id": "163e4a3e",
   "metadata": {},
   "outputs": [],
   "source": [
    "test_data=pd.read_csv('test_set_features.csv')"
   ]
  },
  {
   "cell_type": "code",
   "execution_count": 34,
   "id": "373e80a4",
   "metadata": {},
   "outputs": [],
   "source": [
    "test=test_data.drop(['health_insurance','employment_industry','employment_occupation','respondent_id','hhs_geo_region'],axis=1)"
   ]
  },
  {
   "cell_type": "code",
   "execution_count": 35,
   "id": "9a925df9",
   "metadata": {},
   "outputs": [],
   "source": [
    "prob=pipe.predict_proba(test)[:,1]"
   ]
  },
  {
   "cell_type": "code",
   "execution_count": 36,
   "id": "7b8b2979",
   "metadata": {},
   "outputs": [],
   "source": [
    "seasonal=pd.DataFrame(prob,columns=['seasonal_vaccine'])"
   ]
  },
  {
   "cell_type": "code",
   "execution_count": 37,
   "id": "df2662b7",
   "metadata": {},
   "outputs": [
    {
     "data": {
      "text/html": [
       "<div>\n",
       "<style scoped>\n",
       "    .dataframe tbody tr th:only-of-type {\n",
       "        vertical-align: middle;\n",
       "    }\n",
       "\n",
       "    .dataframe tbody tr th {\n",
       "        vertical-align: top;\n",
       "    }\n",
       "\n",
       "    .dataframe thead th {\n",
       "        text-align: right;\n",
       "    }\n",
       "</style>\n",
       "<table border=\"1\" class=\"dataframe\">\n",
       "  <thead>\n",
       "    <tr style=\"text-align: right;\">\n",
       "      <th></th>\n",
       "      <th>seasonal_vaccine</th>\n",
       "    </tr>\n",
       "  </thead>\n",
       "  <tbody>\n",
       "    <tr>\n",
       "      <th>0</th>\n",
       "      <td>0.182662</td>\n",
       "    </tr>\n",
       "    <tr>\n",
       "      <th>1</th>\n",
       "      <td>0.081472</td>\n",
       "    </tr>\n",
       "    <tr>\n",
       "      <th>2</th>\n",
       "      <td>0.840734</td>\n",
       "    </tr>\n",
       "    <tr>\n",
       "      <th>3</th>\n",
       "      <td>0.885713</td>\n",
       "    </tr>\n",
       "    <tr>\n",
       "      <th>4</th>\n",
       "      <td>0.422715</td>\n",
       "    </tr>\n",
       "    <tr>\n",
       "      <th>...</th>\n",
       "      <td>...</td>\n",
       "    </tr>\n",
       "    <tr>\n",
       "      <th>26703</th>\n",
       "      <td>0.449064</td>\n",
       "    </tr>\n",
       "    <tr>\n",
       "      <th>26704</th>\n",
       "      <td>0.196040</td>\n",
       "    </tr>\n",
       "    <tr>\n",
       "      <th>26705</th>\n",
       "      <td>0.131785</td>\n",
       "    </tr>\n",
       "    <tr>\n",
       "      <th>26706</th>\n",
       "      <td>0.367012</td>\n",
       "    </tr>\n",
       "    <tr>\n",
       "      <th>26707</th>\n",
       "      <td>0.636152</td>\n",
       "    </tr>\n",
       "  </tbody>\n",
       "</table>\n",
       "<p>26708 rows × 1 columns</p>\n",
       "</div>"
      ],
      "text/plain": [
       "       seasonal_vaccine\n",
       "0              0.182662\n",
       "1              0.081472\n",
       "2              0.840734\n",
       "3              0.885713\n",
       "4              0.422715\n",
       "...                 ...\n",
       "26703          0.449064\n",
       "26704          0.196040\n",
       "26705          0.131785\n",
       "26706          0.367012\n",
       "26707          0.636152\n",
       "\n",
       "[26708 rows x 1 columns]"
      ]
     },
     "execution_count": 37,
     "metadata": {},
     "output_type": "execute_result"
    }
   ],
   "source": [
    "seasonal"
   ]
  },
  {
   "cell_type": "code",
   "execution_count": 38,
   "id": "ca829e28",
   "metadata": {},
   "outputs": [],
   "source": [
    "seasonal.to_csv('seasonal_vaccine.csv')"
   ]
  },
  {
   "cell_type": "code",
   "execution_count": null,
   "id": "8d1a92a8",
   "metadata": {},
   "outputs": [],
   "source": []
  }
 ],
 "metadata": {
  "kernelspec": {
   "display_name": "Python 3 (ipykernel)",
   "language": "python",
   "name": "python3"
  },
  "language_info": {
   "codemirror_mode": {
    "name": "ipython",
    "version": 3
   },
   "file_extension": ".py",
   "mimetype": "text/x-python",
   "name": "python",
   "nbconvert_exporter": "python",
   "pygments_lexer": "ipython3",
   "version": "3.11.7"
  }
 },
 "nbformat": 4,
 "nbformat_minor": 5
}
